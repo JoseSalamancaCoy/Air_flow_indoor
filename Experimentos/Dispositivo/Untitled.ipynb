{
 "cells": [
  {
   "cell_type": "code",
   "execution_count": 1,
   "metadata": {},
   "outputs": [],
   "source": [
    "import pandas as pd\n",
    "import numpy as np\n",
    "import matplotlib.pyplot as plt\n",
    "import sys\n",
    "\n",
    "from scipy.ndimage import gaussian_filter1d\n",
    "from sklearn.model_selection import train_test_split\n",
    "from sklearn.datasets import load_boston\n",
    "from sklearn.metrics import mean_squared_error\n",
    "from sklearn.linear_model import LinearRegression\n",
    "import statsmodels.formula.api as sfm \n",
    "\n",
    "#------------------------------------------------------------------------------------------------------------------------\n",
    "#------------------------------------------------------------------------------------------------------------------------\n",
    "\n",
    "def cutdata(datas:list,start_date,end_date):\n",
    "    result = []\n",
    "    for i in datas:\n",
    "        mask = (i.index >= start_date) & (i.index <= end_date)\n",
    "        i=i[mask]\n",
    "        result.append(i)\n",
    "    return result\n",
    "\n",
    "def calidad (ACH):\n",
    "    if ACH >= 6:\n",
    "        calidad = 'Ideal'\n",
    "    elif ACH >= 5 and ACH < 6 :\n",
    "        calidad = 'Excelente'\n",
    "    elif ACH >= 4 and ACH < 5:\n",
    "        calidad = 'Buena'\n",
    "    elif ACH >= 4 and ACH < 5:\n",
    "        calidad = 'Mínima'\n",
    "    elif ACH < 3:\n",
    "        calidad = 'Baja'\n",
    "    \n",
    "    return calidad\n",
    "\n",
    "def LinearModel(variables,porcentage):\n",
    "    \"\"\"\n",
    "    Parameters:\n",
    "        - Variables:list -->\n",
    "        - Porcentage:float  --> \n",
    "    \n",
    "\n",
    "    Returns:\n",
    "        - RMSE:float --> mean square error\n",
    "        - coefficients:list --> \n",
    "        - Intercept:float  -->  \n",
    "    \"\"\"\n",
    "\n",
    "    Y = variables[0]\n",
    "    X = pd.DataFrame({str(i):variables[i] for i in range(1,len(variables))})\n",
    "    X_train, X_test, y_train, y_test = train_test_split(X, Y, test_size = porcentage, random_state=9)\n",
    "    lin_reg_mod = LinearRegression()\n",
    "    lin_reg_mod.fit(X_train, y_train)\n",
    "    pred = lin_reg_mod.predict(X_test)\n",
    "    test_set_rmse = (np.sqrt(mean_squared_error(y_test, pred)))\n",
    "    coef = lin_reg_mod.coef_\n",
    "    intercept = lin_reg_mod.intercept_\n",
    "    Yc = sum([variables[i] * coef[i-1] for i in range(1,len(variables))] ) + intercept\n",
    "    return lin_reg_mod.coef_, lin_reg_mod.intercept_ , Yc\n",
    "    #return Yc\n",
    "    \n",
    "def  Merge(datas:list):\n",
    "    result = pd.DataFrame()\n",
    "    for i in range(0,len(datas)-1):\n",
    "        if i == 0:\n",
    "            result  = pd.merge(datas[i],datas[i+1],left_index=True,right_index=True)\n",
    "        else:\n",
    "            result  = pd.merge(result,datas[i+1],left_index=True,right_index=True)\n",
    "    result = result.dropna()    \n",
    "    return result\n",
    "\n",
    "def rolling(y,n):  #Rolling data to smooth values\n",
    "    rolling = y.rolling(window = n , center = True , min_periods = 1)\n",
    "    return  rolling.median()\n",
    "\n",
    "def clean_nan(data,var):\n",
    "    b = np.array(data[var])\n",
    "    b = np.where(b == 'out of range',np.nan,b)\n",
    "    b = np.where(b == 'Calibration',np.nan,b)\n",
    "    data[var] = list(b)\n",
    "    return data\n",
    "\n",
    "#---------------------------------------------------------------------------------------------------\n",
    "\n"
   ]
  },
  {
   "cell_type": "code",
   "execution_count": 9,
   "metadata": {},
   "outputs": [],
   "source": [
    "def calibracion (name:list,data_start:int, data_end:int):\n",
    "    datar = pd.read_csv(name[0])\n",
    "    data = pd.read_csv(name[1])    \n",
    "    \n",
    "    datar.columns = ['Time', 'CO2_ar', 'T', 'H', 'P']\n",
    "    \n",
    "    datar.index = pd.DatetimeIndex(datar['Time'], dayfirst = True )\n",
    "    datar = datar.drop(\"Time\",axis=1)\n",
    "    datar = clean_nan(datar,'CO2_ar')\n",
    "    datar.CO2_ar = pd.to_numeric(datar.CO2_ar)\n",
    "    datar = datar.resample('1T').mean()\n",
    "    datar.index = datar.index.strftime('%Y-%m-%d %H:%M:%S')\n",
    "    \n",
    "    data.index = pd.DatetimeIndex(data.timestamp)# -  pd.Timedelta(minutes = 2)\n",
    "    data = data.resample('1T').mean()\n",
    "    data.index = data.index.strftime('%Y-%m-%d %H:%M:%S')\n",
    "    \n",
    "    datar, data = cutdata([datar.CO2_ar, data.CO2], data_start, data_end)\n",
    "    all_data = pd.merge(datar,data,left_index=True,right_index=True)\n",
    "    all_data.CO2_ar = rolling(all_data.CO2_ar,10)\n",
    "    all_data.CO2 = rolling(all_data.CO2,10)\n",
    "    \n",
    "    #coef , inter, data_cal = LinearModel([all_data.CO2_ar,all_data.CO2],1)\n",
    "    #all_data['CO2_cal'] = data_cal\n",
    "    \n",
    "    \n",
    "    datar.plot(color = 'k')\n",
    "    data.plot(color = 'r')\n",
    "    #data_cal.plot()\n",
    "\n",
    "    \n",
    "    return 1 #coef\n"
   ]
  },
  {
   "cell_type": "code",
   "execution_count": 10,
   "metadata": {},
   "outputs": [
    {
     "data": {
      "text/plain": [
       "1"
      ]
     },
     "execution_count": 10,
     "metadata": {},
     "output_type": "execute_result"
    },
    {
     "data": {
      "image/png": "[encoded data removed]",
      "text/plain": [
       "<Figure size 432x288 with 1 Axes>"
      ]
     },
     "metadata": {
      "needs_background": "light"
     },
     "output_type": "display_data"
    }
   ],
   "source": [
    "calibracion(['../Datos/aranet1.csv','../Datos/ERIS_SCD30_1.csv'],'2021-03-06 15:25:00','2021-03-06 17:20:00')"
   ]
  },
  {
   "cell_type": "code",
   "execution_count": null,
   "metadata": {},
   "outputs": [],
   "source": []
  }
 ],
 "metadata": {
  "kernelspec": {
   "display_name": "Python 3",
   "language": "python",
   "name": "python3"
  },
  "language_info": {
   "codemirror_mode": {
    "name": "ipython",
    "version": 3
   },
   "file_extension": ".py",
   "mimetype": "text/x-python",
   "name": "python",
   "nbconvert_exporter": "python",
   "pygments_lexer": "ipython3",
   "version": "3.8.3"
  }
 },
 "nbformat": 4,
 "nbformat_minor": 4
}
