{
 "cells": [
  {
   "cell_type": "markdown",
   "metadata": {},
   "source": [
    "### Pruebas de calibración y tasas de recambio\n",
    "**Ubicación:** MakeSens\n",
    "\n",
    "**Objetivos:**\n",
    "    - Calibrar de los sensores (electronica fuera de la caja)\n",
    "    - Medir la tasa de recambio para diferentes situaciones.\n",
    "  \n",
    "**Sensores:**\n",
    "    - Aranet4 -> referencia\n",
    "    - ERIS_S8_1\n",
    "    - ERIS_S8_2\n",
    "    - ERIS_SCD30_1"
   ]
  },
  {
   "cell_type": "markdown",
   "metadata": {},
   "source": [
    "### Calibración\n",
    "Se realiza la calibración para los tres **ERIS**, teniendo como referencia el Aranet4. La calibración se realiza con un modelo lineal y los parametros encontrados iran directamente a las estaciones, para hacer la corrección durante el muestreo.\n",
    "\n",
    "*Nota:* Es necesario estar testeando la validez de estos parametros, por tanto esta calibración se hará periodicamente para llevar un control de la validez del modelo. En caso de notar desviaciones significativas se recalibrara con los datos de esa prueba y posteriormente se verificara el modelo con el historico."
   ]
  },
  {
   "cell_type": "code",
   "execution_count": 1,
   "metadata": {},
   "outputs": [],
   "source": [
    "import Air_flow.calib as cal\n",
    "import Air_flow.ach as ach\n",
    "import matplotlib.pyplot as plt"
   ]
  },
  {
   "cell_type": "code",
   "execution_count": 2,
   "metadata": {},
   "outputs": [
    {
     "ename": "SyntaxError",
     "evalue": "invalid syntax (<ipython-input-2-a2ea901e3059>, line 3)",
     "output_type": "error",
     "traceback": [
      "\u001b[1;36m  File \u001b[1;32m\"<ipython-input-2-a2ea901e3059>\"\u001b[1;36m, line \u001b[1;32m3\u001b[0m\n\u001b[1;33m    paramt3, data3 = cal.import(['../Datos/aranet1.csv','../Datos/ERIS_SCD30_1.csv'],'2021-03-06 16:10:00','2021-03-06 24:50:00')\u001b[0m\n\u001b[1;37m                         ^\u001b[0m\n\u001b[1;31mSyntaxError\u001b[0m\u001b[1;31m:\u001b[0m invalid syntax\n"
     ]
    }
   ],
   "source": [
    "paramt1, data1 = cal.calibracion(['../Datos/aranet1.csv','../Datos/ERIS_S8_1.csv'],'2021-03-06 15:00:00','2021-03-06 19:20:00')\n",
    "paramt2, data2 = cal.calibracion(['../Datos/aranet1.csv','../Datos/ERIS_S8_2.csv'],'2021-03-06 10:00:00','2021-03-06 19:00:00')\n",
    "paramt3, data3 = cal.calibracion(['../Datos/aranet1.csv','../Datos/ERIS_SCD30_1.csv'],'2021-03-06 16:10:00','2021-03-06 24:50:00')"
   ]
  },
  {
   "cell_type": "code",
   "execution_count": null,
   "metadata": {},
   "outputs": [],
   "source": [
    "plt.figure(figsize = (18,6))\n",
    "data1.CO2_ar.plot(label = 'Aranet' )\n",
    "data1.CO2.plot(label = 'ERIS_S8_1')\n",
    "data1.CO2_cal_1.plot(label = 'ERIS_S8_1 calibrado')\n",
    "plt.gcf().autofmt_xdate()\n",
    "plt.legend()\n",
    "plt.show()"
   ]
  },
  {
   "cell_type": "code",
   "execution_count": null,
   "metadata": {},
   "outputs": [],
   "source": [
    "plt.figure(figsize = (18,6))\n",
    "data2.CO2_ar.plot(label = 'Aranet' )\n",
    "data2.CO2.plot(label = 'ERIS_S8_2')\n",
    "data2.CO2_cal_1.plot(label = 'ERIS_S8_2 calibrado')\n",
    "plt.gcf().autofmt_xdate()\n",
    "plt.legend()\n",
    "plt.show()"
   ]
  },
  {
   "cell_type": "code",
   "execution_count": null,
   "metadata": {
    "scrolled": true
   },
   "outputs": [],
   "source": [
    "plt.figure(figsize = (18,6))\n",
    "data3.CO2_ar.plot(label = 'Aranet' )\n",
    "data3.CO2.plot(label = 'ERIS_SCD30_1')\n",
    "data3.CO2_cal_1.plot(label = 'ERIS_SCD30_1 calibrado')\n",
    "plt.gcf().autofmt_xdate()\n",
    "plt.legend()\n",
    "plt.show()"
   ]
  },
  {
   "cell_type": "markdown",
   "metadata": {},
   "source": [
    "### Situación 1\n",
    "Medición de la tasa de recambio, en espacio reducido. Con la puerta y ventana cerrada."
   ]
  },
  {
   "cell_type": "code",
   "execution_count": null,
   "metadata": {},
   "outputs": [],
   "source": [
    "ach.ACH(data2,0,'2021-03-06 10:00:00', '2021-03-06 10:36:00' ,'2021-03-06 11:30:00')"
   ]
  },
  {
   "cell_type": "markdown",
   "metadata": {},
   "source": [
    "### Situación 2\n",
    "Prueba en un espacio más grande (Cuarto electronica), con puerta y ventanas cerradas, no presento ninguna variación, por tanto se abrio la puerta y la ventana."
   ]
  },
  {
   "cell_type": "code",
   "execution_count": null,
   "metadata": {},
   "outputs": [],
   "source": [
    "ach.ACH(data2,2,'2021-03-06 11:40:00', '2021-03-06 12:07:00' ,'2021-03-06 13:00:00')"
   ]
  },
  {
   "cell_type": "code",
   "execution_count": null,
   "metadata": {},
   "outputs": [],
   "source": [
    "ach.ACH(data3,0,'2021-03-06 18:20:00', '2021-03-06 18:45:00' ,'2021-03-06 19:10:00')"
   ]
  },
  {
   "cell_type": "code",
   "execution_count": null,
   "metadata": {},
   "outputs": [],
   "source": []
  }
 ],
 "metadata": {
  "kernelspec": {
   "display_name": "Python 3",
   "language": "python",
   "name": "python3"
  },
  "language_info": {
   "codemirror_mode": {
    "name": "ipython",
    "version": 3
   },
   "file_extension": ".py",
   "mimetype": "text/x-python",
   "name": "python",
   "nbconvert_exporter": "python",
   "pygments_lexer": "ipython3",
   "version": "3.8.3"
  }
 },
 "nbformat": 4,
 "nbformat_minor": 4
}
