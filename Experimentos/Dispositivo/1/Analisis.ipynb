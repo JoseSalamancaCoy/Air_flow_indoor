{
 "metadata": {
  "language_info": {
   "codemirror_mode": {
    "name": "ipython",
    "version": 3
   },
   "file_extension": ".py",
   "mimetype": "text/x-python",
   "name": "python",
   "nbconvert_exporter": "python",
   "pygments_lexer": "ipython3",
   "version": "3.7.3-final"
  },
  "orig_nbformat": 2,
  "kernelspec": {
   "name": "Python 3.7.3 64-bit ('Anaconda3')",
   "display_name": "Python 3.7.3 64-bit ('Anaconda3')",
   "metadata": {
    "interpreter": {
     "hash": "621811397a33bb571723183bcc17a54aa26affa171f14ab3e25550bb7ca62cbd"
    }
   }
  }
 },
 "nbformat": 4,
 "nbformat_minor": 2,
 "cells": [
  {
   "cell_type": "code",
   "execution_count": 54,
   "metadata": {},
   "outputs": [],
   "source": [
    "import requests\n",
    "import pandas as pd\n",
    "from pandas.io.json import json_normalize\n",
    "import itertools"
   ]
  },
  {
   "cell_type": "code",
   "execution_count": 55,
   "metadata": {
    "tags": []
   },
   "outputs": [
    {
     "output_type": "stream",
     "name": "stdout",
     "text": "Download ...\n"
    }
   ],
   "source": [
    "url_mc_indoor = \"https://racimo-api.mpsig.com/racimohub/v110prod/datasets?filtro=id_estacion=mc_indoor;fecha_hora_dts_desde>2020-09-26\"\n",
    "url_mc_outdoor = \"https://racimo-api.mpsig.com/racimohub/v110prod/datasets?filtro=id_estacion=mc_outdoor;fecha_hora_dts_desde>2020-09-26\"\n",
    "\n",
    "print(\"Download ...\")\n",
    "r_mc_indoor = requests.get(url = url_mc_indoor) \n",
    "r_mc_outdoor = requests.get(url = url_mc_outdoor) "
   ]
  },
  {
   "cell_type": "code",
   "execution_count": 60,
   "metadata": {},
   "outputs": [],
   "source": [
    "r_json_mc_indoor = r_mc_indoor.json()\n",
    "r_json_mc_outdoor = r_mc_outdoor.json()"
   ]
  },
  {
   "cell_type": "code",
   "execution_count": 61,
   "metadata": {},
   "outputs": [],
   "source": [
    "data_json_mc_indoor = [i for pack in r_json_mc_indoor for i in pack[\"mediciones\"]]\n",
    "data_json_mc_outdoor = [i for pack in r_json_mc_outdoor for i in pack[\"mediciones\"]]\n",
    "data_mc_indoor_ = json_normalize(data_json_mc_indoor)\n",
    "data_mc_outdoor_ = json_normalize(data_json_mc_outdoor)\n",
    "data_mc_indoor_.to_csv(\"indoor.csv\", sep = \",\")\n",
    "data_mc_outdoor_.to_csv(\"outdoor.csv\", sep = \",\")\n"
   ]
  },
  {
   "cell_type": "code",
   "execution_count": 62,
   "metadata": {},
   "outputs": [],
   "source": [
    "columns= list(data_mc_indoor_[\"id_parametro\"].drop_duplicates())\n",
    "columns.append(\"date_time\")\n",
    "data_mc_indoor = pd.DataFrame(columns=[\"date_time\"])\n",
    "data_mc_outdoor = pd.DataFrame(columns=[\"date_time\"])\n",
    "data_mc_indoor[\"date_time\"] = data_mc_indoor_[\"fecha_hora_med\"].drop_duplicates()\n",
    "data_mc_outdoor[\"date_time\"] = data_mc_outdoor_[\"fecha_hora_med\"].drop_duplicates()\n",
    "\n",
    "#Continuara ..."
   ]
  },
  {
   "cell_type": "code",
   "execution_count": null,
   "metadata": {},
   "outputs": [],
   "source": []
  }
 ]
}