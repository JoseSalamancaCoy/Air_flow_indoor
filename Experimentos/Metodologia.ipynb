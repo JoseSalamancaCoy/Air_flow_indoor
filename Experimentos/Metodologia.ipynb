{
 "cells": [
  {
   "cell_type": "markdown",
   "metadata": {},
   "source": [
    "## Metodología \n",
    "Metodología para medir la tasa de renovación de aire en aulas."
   ]
  },
  {
   "cell_type": "markdown",
   "metadata": {},
   "source": [
    "### Materiales\n",
    " - Cinta metrica\n",
    " - Hielo seco\n",
    " - Sensor de CO2"
   ]
  },
  {
   "cell_type": "markdown",
   "metadata": {},
   "source": [
    "### 1. Dimenciones del aula \n",
    "**Objetivo:** Determinar el volumen funcional del aula.\n",
    "\n",
    "**Mediciones:**\n",
    " * Largo\n",
    " * Ancho\n",
    " * Alto\n",
    "\n",
    "*Nota:* Contar el número de ventanas, medir su dimensión y área de apertura."
   ]
  },
  {
   "cell_type": "markdown",
   "metadata": {},
   "source": [
    "### 2. Verificaciones\n",
    " - Verificar los dispositivos esten funcionando correctamente\n",
    " - Verificar la dirección del flujo de aire (usar un trozo de tela)\n",
    " - Verificar si hay aires acondicionados, de tenerlos se debe:\n",
    "     - Identificar si son de suministro o extracción\n",
    "     - Determinar las areas del aire que realizan cada función.\n",
    " "
   ]
  },
  {
   "cell_type": "markdown",
   "metadata": {},
   "source": [
    "### 3. Medición de la tasa de ventilación aire exterior (hielo seco)\n",
    "**Objetivo:** Estimar el flujo de aire exterior que entra en el aula desocupada usando un medidor de CO2\n",
    "\n",
    "- Sensor calibrado\n",
    "- Frecuencia de muestreo de una vez por minuto\n",
    "- Medición de CO2 en exteriores (antes y despues), para el calculo se usa el promedio, duración de 5 minutos.\n",
    "- Medición de CO2 en interiores\n",
    "    - Ubicar el sensor de CO2 a un metro sobre el suelo, lejos del contenedor de hielo seco\n",
    "    - Aumentar la concentración de CO2 a 2000 ppm, como máximo a 5000 ppm (limite de exposición ocupacional)\n",
    "    - Dejar que la  concentración de CO2 se reduzca a un 37% del incremento inicial, determinar este tiempo.\n",
    "    $$ P_q = base + 0.37 * exceso $$\n",
    "- Repetir el procedimiento anterior para los siguientes esenarios:\n",
    "    - Aula vacia, puertas y ventanas cerradas (las compuertas de aure fresco abiertas)\n",
    "    - Algunas puertas y ventanas cerradas (probar varias configuraciones)\n",
    "    - Pronar en otras aulas para comprender la influencia del viendo sobre y alrededor del edificio.\n"
   ]
  },
  {
   "cell_type": "markdown",
   "metadata": {},
   "source": [
    "### 4. Calcular la tasa de renovación de aire (ACH), para cada prueba\n",
    "$$ ACH = \\frac{-1 * ln \\left( \\frac{C_{end} -C_{ambient}}{C_{start} - C_{ambient}} \\right)}{t_{end} - t_{stat}} $$\n",
    "\n",
    "Donde: \n",
    "- $C_{start}$ es la concentración al inicio de la disminución\n",
    "- $t_{start}$ es el tiempo para $C_{start}$\n",
    "- $C_{end}$ es la concentración al final de la curva de disminución. (final de la prueba)\n",
    "- $t_{end}$ es el tiempo para $C_{end}$ \n",
    "\n",
    "*Nota:* Tiempo se debe medir en horas"
   ]
  },
  {
   "cell_type": "markdown",
   "metadata": {},
   "source": [
    "|**Calidad**|**Medición**|\n",
    "|-------|--------|\n",
    "| Ideal | 6 ACH  |\n",
    "| Excelnte | 5-6 ACH |\n",
    "| Bueno | 4-5 ACH |\n",
    "| Mínimo | 3-4 ACH |\n",
    "| Bajo | <3 ACH |"
   ]
  },
  {
   "cell_type": "code",
   "execution_count": null,
   "metadata": {},
   "outputs": [],
   "source": []
  }
 ],
 "metadata": {
  "kernelspec": {
   "display_name": "Python 3",
   "language": "python",
   "name": "python3"
  },
  "language_info": {
   "codemirror_mode": {
    "name": "ipython",
    "version": 3
   },
   "file_extension": ".py",
   "mimetype": "text/x-python",
   "name": "python",
   "nbconvert_exporter": "python",
   "pygments_lexer": "ipython3",
   "version": "3.8.3"
  }
 },
 "nbformat": 4,
 "nbformat_minor": 4
}
