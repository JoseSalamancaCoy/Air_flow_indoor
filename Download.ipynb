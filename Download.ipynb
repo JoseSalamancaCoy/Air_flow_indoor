{
 "metadata": {
  "language_info": {
   "codemirror_mode": {
    "name": "ipython",
    "version": 3
   },
   "file_extension": ".py",
   "mimetype": "text/x-python",
   "name": "python",
   "nbconvert_exporter": "python",
   "pygments_lexer": "ipython3",
   "version": "3.7.3-final"
  },
  "orig_nbformat": 2,
  "kernelspec": {
   "name": "python3",
   "display_name": "Python 3.7.3 64-bit ('IN2Sense': virtualenv)",
   "metadata": {
    "interpreter": {
     "hash": "621811397a33bb571723183bcc17a54aa26affa171f14ab3e25550bb7ca62cbd"
    }
   }
  }
 },
 "nbformat": 4,
 "nbformat_minor": 2,
 "cells": [
  {
   "cell_type": "code",
   "execution_count": 51,
   "metadata": {},
   "outputs": [],
   "source": [
    "\n",
    "import pandas as pd\n",
    "import numpy as np\n",
    "import matplotlib.pyplot as plt\n",
    "import requests\n",
    "from requests.auth import HTTPBasicAuth\n",
    "import json\n",
    "import sys\n",
    "\n",
    "\n",
    "URL_LOGGIN = 'http://www.momot.io/login'\n",
    "TIME       = 'week'\n",
    "URL_S8_1   = \"http://www.momot.io/sources/603b20c0ab18690017d12531/download?time=\"+TIME\n",
    "URL_S8_2   = \"http://www.momot.io/sources/603d7fd2e1b56d001786da1b/download?time=\"+TIME\n",
    "URL_CSD30_1= \"http://www.momot.io/sources/603a9695ab18690017d12407/download?time=\"+TIME\n",
    "EMAIL      = 'karen.forero1@correo.uis.edu.co'\n",
    "PASS       = 'Momot123'"
   ]
  },
  {
   "cell_type": "code",
   "execution_count": 52,
   "metadata": {
    "tags": []
   },
   "outputs": [],
   "source": [
    "\n",
    "s = requests.Session()\n",
    "\n",
    "response = s.post(\n",
    "    URL_LOGGIN,\n",
    "    data = {'email': EMAIL, 'password': PASS}\n",
    ")\n",
    "\n",
    "data = s.get(URL_S8_1)\n",
    "csv_file = open('Experimentos/Datos/_ERIS_S8_1.csv', 'wb')\n",
    "csv_file.write(data.content)\n",
    "csv_file.close()\n",
    "\n",
    "data = s.get(URL_S8_2)\n",
    "csv_file = open('Experimentos/Datos/_ERIS_S8_2.csv', 'wb')\n",
    "csv_file.write(data.content)\n",
    "csv_file.close()\n",
    "\n",
    "data = s.get(URL_CSD30_1)\n",
    "csv_file = open('Experimentos/Datos/_ERIS_SCD30_1.csv', 'wb')\n",
    "csv_file.write(data.content)\n",
    "csv_file.close()"
   ]
  },
  {
   "cell_type": "code",
   "execution_count": 53,
   "metadata": {},
   "outputs": [],
   "source": [
    "# Load data\n",
    "ERIS_S8_1 = pd.read_csv('Experimentos/Datos/_ERIS_S8_1.csv')\n",
    "ERIS_S8_2 = pd.read_csv('Experimentos/Datos/_ERIS_S8_2.csv')\n",
    "ERIS_SCD30_1 = pd.read_csv('Experimentos/Datos/_ERIS_SCD30_1.csv')"
   ]
  },
  {
   "cell_type": "code",
   "execution_count": 55,
   "metadata": {},
   "outputs": [],
   "source": [
    "ERIS_S8_1.index = pd.DatetimeIndex(ERIS_S8_1.timestamp) - pd.Timedelta(hours = 5, minutes = 0)\n",
    "ERIS_S8_1.index = ERIS_S8_1.index.strftime('%Y-%m-%d %H:%M:%S')\n",
    "ERIS_S8_1[\"CO2\"] = [ json.loads(i)['value'] for i in ERIS_S8_1.pm10.dropna() ]\n",
    "ERIS_S8_1 = ERIS_S8_1.sort_values(\"timestamp\")\n",
    "ERIS_S8_1 = ERIS_S8_1.drop(\"timestamp\",axis=1)\n",
    "ERIS_S8_1 = ERIS_S8_1.drop(\"pm10\",axis=1)\n",
    "ERIS_S8_1 = ERIS_S8_1.drop(\"sensor\",axis=1)\n",
    "\n",
    "ERIS_S8_2.index = pd.DatetimeIndex(ERIS_S8_2.timestamp) - pd.Timedelta(hours = 5, minutes = 0)\n",
    "ERIS_S8_2.index = ERIS_S8_2.index.strftime('%Y-%m-%d %H:%M:%S')\n",
    "ERIS_S8_2[\"CO2\"] = [ json.loads(i)['value'] for i in ERIS_S8_2.pm10.dropna() ]\n",
    "ERIS_S8_2 = ERIS_S8_2.sort_values(\"timestamp\")\n",
    "ERIS_S8_2 = ERIS_S8_2.drop(\"timestamp\",axis=1)\n",
    "ERIS_S8_2 = ERIS_S8_2.drop(\"pm10\",axis=1)\n",
    "ERIS_S8_2 = ERIS_S8_2.drop(\"sensor\",axis=1)\n",
    "\n",
    "ERIS_SCD30_1.index = pd.DatetimeIndex(ERIS_SCD30_1.timestamp) - pd.Timedelta(hours = 5, minutes = 0)\n",
    "ERIS_SCD30_1.index = ERIS_SCD30_1.index.strftime('%Y-%m-%d %H:%M:%S')\n",
    "ERIS_SCD30_1[\"CO2\"] = [ json.loads(i)['value'] for i in ERIS_SCD30_1.pm10.dropna() ]\n",
    "ERIS_SCD30_1[\"h\"] = [ json.loads(i)['value'] for i in ERIS_SCD30_1.humidity.dropna() ]\n",
    "ERIS_SCD30_1[\"t\"] = [ json.loads(i)['value'] for i in ERIS_SCD30_1.temperature.dropna() ]\n",
    "ERIS_SCD30_1 = ERIS_SCD30_1.sort_values(\"timestamp\")\n",
    "ERIS_SCD30_1 = ERIS_SCD30_1.drop(\"timestamp\",axis=1)\n",
    "ERIS_SCD30_1 = ERIS_SCD30_1.drop(\"pm10\",axis=1)\n",
    "ERIS_SCD30_1 = ERIS_SCD30_1.drop(\"sensor\",axis=1)\n",
    "ERIS_SCD30_1 = ERIS_SCD30_1.drop(\"humidity\",axis=1)\n",
    "ERIS_SCD30_1 = ERIS_SCD30_1.drop(\"temperature\",axis=1)\n"
   ]
  },
  {
   "cell_type": "code",
   "execution_count": 56,
   "metadata": {},
   "outputs": [],
   "source": [
    "ERIS_S8_1.to_csv('Experimentos/Datos/ERIS_S8_1.csv')\n",
    "\n",
    "ERIS_S8_2.to_csv('Experimentos/Datos/ERIS_S8_2.csv')\n",
    "\n",
    "ERIS_SCD30_1.to_csv('Experimentos/Datos/ERIS_SCD30_1.csv')"
   ]
  }
 ]
}