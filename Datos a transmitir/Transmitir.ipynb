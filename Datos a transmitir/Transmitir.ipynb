{
  "nbformat": 4,
  "nbformat_minor": 0,
  "metadata": {
    "colab": {
      "name": "joseagalan.ipynb",
      "provenance": [],
      "collapsed_sections": []
    },
    "kernelspec": {
      "name": "python3",
      "display_name": "Python 3"
    }
  },
  "cells": [
    {
      "cell_type": "code",
      "metadata": {
        "id": "Gqfd5ZvOew00",
        "colab": {
          "resources": {
            "http://localhost:8080/nbextensions/google.colab/files.js": {
              "data": "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",
              "ok": true,
              "headers": [
                [
                  "content-type",
                  "application/javascript"
                ]
              ],
              "status": 200,
              "status_text": ""
            }
          },
          "base_uri": "https://localhost:8080/",
          "height": 74
        },
        "outputId": "a728e2dd-7605-409f-f3db-851525d8d50a"
      },
      "source": [
        "import json\n",
        "import datetime\n",
        "import requests\n",
        "import csv\n",
        "from time import sleep\n"
      ],
      "execution_count": 1,
      "outputs": []
    },
    {
      "cell_type": "code",
      "execution_count": 43,
      "metadata": {},
      "outputs": [],
      "source": [
        "a=5"
      ]
    },
    {
      "cell_type": "code",
      "execution_count": 44,
      "metadata": {},
      "outputs": [],
      "source": [
        "def ReadKeys(Dir):\n",
        "    keys = []\n",
        "    try:\n",
        "        with open(Dir +'keys.csv', newline='\\n') as File:  \n",
        "            reader = csv.reader(File)\n",
        "            for row in reader:\n",
        "                if(len(row)): \n",
        "                    keys.append(Dir + row[0][5:])            \n",
        "    except:\n",
        "        print(\"No hay archivo  \" +  Dir )\n",
        "    return keys\n",
        "\n",
        "def post(key):\n",
        "    with open(key) as File:  \n",
        "        #print(File.read())\n",
        "        reader = json.load(File)\n",
        "        DataPOST = [reader]\n",
        "        headers={\"Postman-Token\": \"d75df676-a5e1-448a-8b70-177609f83454\",\"Cache-Control\": \"no-cache\",'Content-type':'application/json'}\n",
        "        r = requests.post(\"http://racimo.mpsig.com:3000/racimohub/v013dev/datasets\", data =json.dumps(reader), headers=headers)\n",
        "        print(json.dumps(DataPOST))\n",
        "        print(r.status_code, r.reason)\n",
        "        print(\"\\n\")\n",
        "        return r.status_code != 201\n",
        "\n",
        "def TransmitPendientes(keys):\n",
        "    noValid= []\n",
        "    noTransmit = []\n",
        "    for key in keys:\n",
        "        print(\"Transmitiendo ...   \" + key)\n",
        "        try:\n",
        "            if(post(key)):\n",
        "                noValid.append(key)\n",
        "        except :\n",
        "            sleep(1)\n",
        "            try:\n",
        "                reparar_json(key)\n",
        "                if(post(key)):\n",
        "                    noValid.append(key)\n",
        "                    \n",
        "            except:\n",
        "                print(\"No transmitido\")\n",
        "                noTransmit.append(key)\n",
        "                pass\n",
        "            \n",
        "    return [noValid, noTransmit]\n",
        "\n",
        "def reparar_json(key): #Debe ingresar llaves limpias, tipo string sin comillas \n",
        "    newdata = \"\"\n",
        "    with open(key, 'r') as File:  \n",
        "        reader = File.read()\n",
        "        recorte = reader[::-1].find(\"{,\") + 2\n",
        "        newdata= reader[:-recorte] + \"]}\"\n",
        "    with open(key, 'w') as File:\n",
        "        File.write(newdata)"
      ]
    },
    {
      "cell_type": "code",
      "execution_count": 48,
      "metadata": {
        "tags": []
      },
      "outputs": [
        {
          "output_type": "execute_result",
          "data": {
            "text/plain": [
              "'\\nkeysindoor_ = []\\ntry:\\n    with open(\\'DataIndoor_/keys.csv\\', newline=\\'\\n\\') as File:  \\n        reader = csv.reader(File)\\n        for row in reader:\\n            if(len(row)): \\n                keysindoor_.append(row[0][6:])\\nexcept:\\n    print(\"No hay archivo Outdoor\")\\n\\n\\nkeysoutdoor_ = []\\ntry:\\n    with open(\\'DataIndoor_/keys.csv\\', newline=\\'\\n\\') as File:  \\n        reader = csv.reader(File)\\n        for row in reader:\\n            if(len(row)): \\n                keysoutdoor_.append(row[0][6:])\\nexcept:\\n    print(\"No hay archivo Outdoor\")\\n'"
            ]
          },
          "metadata": {},
          "execution_count": 48
        }
      ],
      "source": [
        " \n",
        "keysindoor = []\n",
        "keysindoor = ReadKeys(\"DataIndoor/\")\n",
        "keysoutdoor = []\n",
        "keysoutdoor = ReadKeys(\"DataOutdoor/\")\n",
        "\n",
        "'''\n",
        "keysindoor_ = []\n",
        "try:\n",
        "    with open('DataIndoor_/keys.csv', newline='\\n') as File:  \n",
        "        reader = csv.reader(File)\n",
        "        for row in reader:\n",
        "            if(len(row)): \n",
        "                keysindoor_.append(row[0][6:])\n",
        "except:\n",
        "    print(\"No hay archivo Outdoor\")\n",
        "\n",
        "\n",
        "keysoutdoor_ = []\n",
        "try:\n",
        "    with open('DataIndoor_/keys.csv', newline='\\n') as File:  \n",
        "        reader = csv.reader(File)\n",
        "        for row in reader:\n",
        "            if(len(row)): \n",
        "                keysoutdoor_.append(row[0][6:])\n",
        "except:\n",
        "    print(\"No hay archivo Outdoor\")\n",
        "'''"
      ]
    },
    {
      "cell_type": "code",
      "execution_count": 46,
      "metadata": {
        "tags": []
      },
      "outputs": [
        {
          "output_type": "stream",
          "name": "stdout",
          "text": [
            "Transmitiendo ...   DataIndoor/ndoor/2020_12/2020_12_07T04_44_28Z.json\n",
            "No transmitido\n",
            "Transmitiendo ...   DataIndoor/ndoor/2020_12/2020_12_07T04_46_14Z.json\n",
            "No transmitido\n",
            "Transmitiendo ...   DataIndoor/ndoor/2020_12/2020_12_07T04_49_45Z.json\n",
            "No transmitido\n"
          ]
        },
        {
          "output_type": "execute_result",
          "data": {
            "text/plain": [
              "[[],\n",
              " ['DataIndoor/ndoor/2020_12/2020_12_07T04_44_28Z.json',\n",
              "  'DataIndoor/ndoor/2020_12/2020_12_07T04_46_14Z.json',\n",
              "  'DataIndoor/ndoor/2020_12/2020_12_07T04_49_45Z.json']]"
            ]
          },
          "metadata": {},
          "execution_count": 46
        }
      ],
      "source": [
        "TransmitPendientes(keysindoor)"
      ]
    },
    {
      "cell_type": "code",
      "execution_count": 51,
      "metadata": {
        "tags": [
          "outputPrepend"
        ]
      },
      "outputs": [
        {
          "output_type": "stream",
          "name": "stdout",
          "text": [
            ", \"id_parametro\": \"co2_ppm_2\", \"valor\": 24.8029}, {\"fecha_hora_med\": \"2020-12-08T16:07:30Z\", \"id_parametro\": \"co2_ppm_2_max\", \"valor\": 27.61076}, {\"fecha_hora_med\": \"2020-12-08T16:07:30Z\", \"id_parametro\": \"co2_ppm_2_min\", \"valor\": 20.27903}, {\"fecha_hora_med\": \"2020-12-08T16:07:30Z\", \"id_parametro\": \"co2_ppm_2_desv\", \"valor\": 1.221078}, {\"fecha_hora_med\": \"2020-12-08T16:07:30Z\", \"id_parametro\": \"co2_rzero_1\", \"valor\": 109.2212}, {\"fecha_hora_med\": \"2020-12-08T16:07:30Z\", \"id_parametro\": \"co2_rzero_1_max\", \"valor\": 111.5104}, {\"fecha_hora_med\": \"2020-12-08T16:07:30Z\", \"id_parametro\": \"co2_rzero_1_min\", \"valor\": 108.175}, {\"fecha_hora_med\": \"2020-12-08T16:07:30Z\", \"id_parametro\": \"co2_rzero_1_desv\", \"valor\": 0.685851}, {\"fecha_hora_med\": \"2020-12-08T16:07:30Z\", \"id_parametro\": \"co2_rzero_2\", \"valor\": 208.1629}, {\"fecha_hora_med\": \"2020-12-08T16:07:30Z\", \"id_parametro\": \"co2_rzero_2_max\", \"valor\": 220.7524}, {\"fecha_hora_med\": \"2020-12-08T16:07:30Z\", \"id_parametro\": \"co2_rzero_2_min\", \"valor\": 202.7002}, {\"fecha_hora_med\": \"2020-12-08T16:07:30Z\", \"id_parametro\": \"co2_rzero_2_desv\", \"valor\": 3.202785}]}]\n",
            "201 Created\n",
            "\n",
            "\n",
            "Transmitiendo ...   DataOutdoor/2020_12/2020_12_08T16_08_33Z.json\n",
            "[{\"id_dataset\": 0, \"version\": \"1.0\", \"id_estacion\": \"mc_outdoor\", \"gps\": false, \"timezone\": \"UTC-5\", \"mediciones\": [{\"fecha_hora_med\": \"2020-12-08T16:08:33Z\", \"id_parametro\": \"t\", \"valor\": 25.5965}, {\"fecha_hora_med\": \"2020-12-08T16:08:33Z\", \"id_parametro\": \"h\", \"valor\": 62.04712}, {\"fecha_hora_med\": \"2020-12-08T16:08:33Z\", \"id_parametro\": \"p\", \"valor\": 900.9246}, {\"fecha_hora_med\": \"2020-12-08T16:08:33Z\", \"id_parametro\": \"pm1_0_sp\", \"valor\": 14.7}, {\"fecha_hora_med\": \"2020-12-08T16:08:33Z\", \"id_parametro\": \"pm1_0_sp_max\", \"valor\": 18}, {\"fecha_hora_med\": \"2020-12-08T16:08:33Z\", \"id_parametro\": \"pm1_0_sp_min\", \"valor\": 13}, {\"fecha_hora_med\": \"2020-12-08T16:08:33Z\", \"id_parametro\": \"pm1_0_sp_desv\", \"valor\": 1.512021}, {\"fecha_hora_med\": \"2020-12-08T16:08:33Z\", \"id_parametro\": \"pm1_0_au\", \"valor\": 14.7}, {\"fecha_hora_med\": \"2020-12-08T16:08:33Z\", \"id_parametro\": \"pm1_0_au_max\", \"valor\": 18}, {\"fecha_hora_med\": \"2020-12-08T16:08:33Z\", \"id_parametro\": \"pm1_0_au_min\", \"valor\": 13}, {\"fecha_hora_med\": \"2020-12-08T16:08:33Z\", \"id_parametro\": \"pm1_0_au_desv\", \"valor\": 1.512021}, {\"fecha_hora_med\": \"2020-12-08T16:08:33Z\", \"id_parametro\": \"pm2_5_sp\", \"valor\": 21}, {\"fecha_hora_med\": \"2020-12-08T16:08:33Z\", \"id_parametro\": \"pm2_5_sp_max\", \"valor\": 26}, {\"fecha_hora_med\": \"2020-12-08T16:08:33Z\", \"id_parametro\": \"pm2_5_sp_min\", \"valor\": 18}, {\"fecha_hora_med\": \"2020-12-08T16:08:33Z\", \"id_parametro\": \"pm2_5_sp_desv\", \"valor\": 2.477485}, {\"fecha_hora_med\": \"2020-12-08T16:08:33Z\", \"id_parametro\": \"pm2_5_au\", \"valor\": 21}, {\"fecha_hora_med\": \"2020-12-08T16:08:33Z\", \"id_parametro\": \"pm2_5_au_max\", \"valor\": 26}, {\"fecha_hora_med\": \"2020-12-08T16:08:33Z\", \"id_parametro\": \"pm2_5_au_min\", \"valor\": 18}, {\"fecha_hora_med\": \"2020-12-08T16:08:33Z\", \"id_parametro\": \"pm2_5_au_desv\", \"valor\": 2.477485}, {\"fecha_hora_med\": \"2020-12-08T16:08:33Z\", \"id_parametro\": \"pm10_0_sp\", \"valor\": 22.73333}, {\"fecha_hora_med\": \"2020-12-08T16:08:33Z\", \"id_parametro\": \"pm10_0_sp_max\", \"valor\": 28}, {\"fecha_hora_med\": \"2020-12-08T16:08:33Z\", \"id_parametro\": \"pm10_0_sp_min\", \"valor\": 19}, {\"fecha_hora_med\": \"2020-12-08T16:08:33Z\", \"id_parametro\": \"pm10_0_sp_desv\", \"valor\": 2.476557}, {\"fecha_hora_med\": \"2020-12-08T16:08:33Z\", \"id_parametro\": \"pm10_0_au\", \"valor\": 22.73333}, {\"fecha_hora_med\": \"2020-12-08T16:08:33Z\", \"id_parametro\": \"pm10_0_au_max\", \"valor\": 28}, {\"fecha_hora_med\": \"2020-12-08T16:08:33Z\", \"id_parametro\": \"pm10_0_au_min\", \"valor\": 19}, {\"fecha_hora_med\": \"2020-12-08T16:08:33Z\", \"id_parametro\": \"pm10_0_au_desv\", \"valor\": 2.476557}, {\"fecha_hora_med\": \"2020-12-08T16:08:33Z\", \"id_parametro\": \"pm_n_0_3\", \"valor\": 2799.4}, {\"fecha_hora_med\": \"2020-12-08T16:08:33Z\", \"id_parametro\": \"pm_n_0_3_max\", \"valor\": 3273}, {\"fecha_hora_med\": \"2020-12-08T16:08:33Z\", \"id_parametro\": \"pm_n_0_3_min\", \"valor\": 2490}, {\"fecha_hora_med\": \"2020-12-08T16:08:33Z\", \"id_parametro\": \"pm_n_0_3_desv\", \"valor\": 204.0133}, {\"fecha_hora_med\": \"2020-12-08T16:08:33Z\", \"id_parametro\": \"pm_n_0_5\", \"valor\": 760.4333}, {\"fecha_hora_med\": \"2020-12-08T16:08:33Z\", \"id_parametro\": \"pm_n_0_5_max\", \"valor\": 886}, {\"fecha_hora_med\": \"2020-12-08T16:08:33Z\", \"id_parametro\": \"pm_n_0_5_min\", \"valor\": 678}, {\"fecha_hora_med\": \"2020-12-08T16:08:33Z\", \"id_parametro\": \"pm_n_0_5_desv\", \"valor\": 54.32957}, {\"fecha_hora_med\": \"2020-12-08T16:08:33Z\", \"id_parametro\": \"pm_n_1_0\", \"valor\": 131.0333}, {\"fecha_hora_med\": \"2020-12-08T16:08:33Z\", \"id_parametro\": \"pm_n_1_0_max\", \"valor\": 170}, {\"fecha_hora_med\": \"2020-12-08T16:08:33Z\", \"id_parametro\": \"pm_n_1_0_min\", \"valor\": 103}, {\"fecha_hora_med\": \"2020-12-08T16:08:33Z\", \"id_parametro\": \"pm_n_1_0_desv\", \"valor\": 17.44051}, {\"fecha_hora_med\": \"2020-12-08T16:08:33Z\", \"id_parametro\": \"pm_n_2_5\", \"valor\": 12.06667}, {\"fecha_hora_med\": \"2020-12-08T16:08:33Z\", \"id_parametro\": \"pm_n_2_5_max\", \"valor\": 20}, {\"fecha_hora_med\": \"2020-12-08T16:08:33Z\", \"id_parametro\": \"pm_n_2_5_min\", \"valor\": 6}, {\"fecha_hora_med\": \"2020-12-08T16:08:33Z\", \"id_parametro\": \"pm_n_2_5_desv\", \"valor\": 3.503037}, {\"fecha_hora_med\": \"2020-12-08T16:08:33Z\", \"id_parametro\": \"pm_n_10_0\", \"valor\": 3.133333}, {\"fecha_hora_med\": \"2020-12-08T16:08:33Z\", \"id_parametro\": \"pm_n_10_0_max\", \"valor\": 6}, {\"fecha_hora_med\": \"2020-12-08T16:08:33Z\", \"id_parametro\": \"pm_n_10_0_min\", \"valor\": 0}, {\"fecha_hora_med\": \"2020-12-08T16:08:33Z\", \"id_parametro\": \"pm_n_10_0_desv\", \"valor\": 2.145297}, {\"fecha_hora_med\": \"2020-12-08T16:08:33Z\", \"id_parametro\": \"co2_adc_1\", \"valor\": 764.2333}, {\"fecha_hora_med\": \"2020-12-08T16:08:33Z\", \"id_parametro\": \"co2_adc_1_max\", \"valor\": 770}, {\"fecha_hora_med\": \"2020-12-08T16:08:33Z\", \"id_parametro\": \"co2_adc_1_min\", \"valor\": 753}, {\"fecha_hora_med\": \"2020-12-08T16:08:33Z\", \"id_parametro\": \"co2_adc_1_desv\", \"valor\": 3.757139}, {\"fecha_hora_med\": \"2020-12-08T16:08:33Z\", \"id_parametro\": \"co2_adc_2\", \"valor\": 425.9}, {\"fecha_hora_med\": \"2020-12-08T16:08:33Z\", \"id_parametro\": \"co2_adc_2_max\", \"valor\": 430}, {\"fecha_hora_med\": \"2020-12-08T16:08:33Z\", \"id_parametro\": \"co2_adc_2_min\", \"valor\": 417}, {\"fecha_hora_med\": \"2020-12-08T16:08:33Z\", \"id_parametro\": \"co2_adc_2_desv\", \"valor\": 3.144234}, {\"fecha_hora_med\": \"2020-12-08T16:08:33Z\", \"id_parametro\": \"co2_res_1\", \"valor\": 69.16998}, {\"fecha_hora_med\": \"2020-12-08T16:08:33Z\", \"id_parametro\": \"co2_res_1_max\", \"valor\": 72.29777}, {\"fecha_hora_med\": \"2020-12-08T16:08:33Z\", \"id_parametro\": \"co2_res_1_min\", \"valor\": 68.56181}, {\"fecha_hora_med\": \"2020-12-08T16:08:33Z\", \"id_parametro\": \"co2_res_1_desv\", \"valor\": 0.699084}, {\"fecha_hora_med\": \"2020-12-08T16:08:33Z\", \"id_parametro\": \"co2_res_2\", \"valor\": 132.0261}, {\"fecha_hora_med\": \"2020-12-08T16:08:33Z\", \"id_parametro\": \"co2_res_2_max\", \"valor\": 135.9546}, {\"fecha_hora_med\": \"2020-12-08T16:08:33Z\", \"id_parametro\": \"co2_res_2_min\", \"valor\": 128.6068}, {\"fecha_hora_med\": \"2020-12-08T16:08:33Z\", \"id_parametro\": \"co2_res_2_desv\", \"valor\": 1.638319}, {\"fecha_hora_med\": \"2020-12-08T16:08:33Z\", \"id_parametro\": \"co2_ppm_1\", \"valor\": 154.3815}, {\"fecha_hora_med\": \"2020-12-08T16:08:33Z\", \"id_parametro\": \"co2_ppm_1_max\", \"valor\": 163.9576}, {\"fecha_hora_med\": \"2020-12-08T16:08:33Z\", \"id_parametro\": \"co2_ppm_1_min\", \"valor\": 127.8347}, {\"fecha_hora_med\": \"2020-12-08T16:08:33Z\", \"id_parametro\": \"co2_ppm_1_desv\", \"valor\": 6.588079}, {\"fecha_hora_med\": \"2020-12-08T16:08:33Z\", \"id_parametro\": \"co2_ppm_2\", \"valor\": 25.94388}, {\"fecha_hora_med\": \"2020-12-08T16:08:33Z\", \"id_parametro\": \"co2_ppm_2_max\", \"valor\": 26.86204}, {\"fecha_hora_med\": \"2020-12-08T16:08:33Z\", \"id_parametro\": \"co2_ppm_2_min\", \"valor\": 24.17899}, {\"fecha_hora_med\": \"2020-12-08T16:08:33Z\", \"id_parametro\": \"co2_ppm_2_desv\", \"valor\": 0.546356}, {\"fecha_hora_med\": \"2020-12-08T16:08:33Z\", \"id_parametro\": \"co2_rzero_1\", \"valor\": 107.537}, {\"fecha_hora_med\": \"2020-12-08T16:08:33Z\", \"id_parametro\": \"co2_rzero_1_max\", \"valor\": 110.6598}, {\"fecha_hora_med\": \"2020-12-08T16:08:33Z\", \"id_parametro\": \"co2_rzero_1_min\", \"valor\": 105.1646}, {\"fecha_hora_med\": \"2020-12-08T16:08:33Z\", \"id_parametro\": \"co2_rzero_1_desv\", \"valor\": 1.026301}, {\"fecha_hora_med\": \"2020-12-08T16:08:33Z\", \"id_parametro\": \"co2_rzero_2\", \"valor\": 205.5315}, {\"fecha_hora_med\": \"2020-12-08T16:08:33Z\", \"id_parametro\": \"co2_rzero_2_max\", \"valor\": 211.0951}, {\"fecha_hora_med\": \"2020-12-08T16:08:33Z\", \"id_parametro\": \"co2_rzero_2_min\", \"valor\": 203.2066}, {\"fecha_hora_med\": \"2020-12-08T16:08:33Z\", \"id_parametro\": \"co2_rzero_2_desv\", \"valor\": 1.958772}]}]\n",
            "201 Created\n",
            "\n",
            "\n",
            "Transmitiendo ...   DataOutdoor/2020_12/2020_12_08T16_09_27Z.json\n",
            "[{\"id_dataset\": 0, \"version\": \"1.0\", \"id_estacion\": \"mc_outdoor\", \"gps\": false, \"timezone\": \"UTC-5\", \"mediciones\": [{\"fecha_hora_med\": \"2020-12-08T16:09:27Z\", \"id_parametro\": \"pm1_0_sp\", \"valor\": 15.03333}, {\"fecha_hora_med\": \"2020-12-08T16:09:27Z\", \"id_parametro\": \"pm1_0_sp_max\", \"valor\": 17}, {\"fecha_hora_med\": \"2020-12-08T16:09:27Z\", \"id_parametro\": \"pm1_0_sp_min\", \"valor\": 13}, {\"fecha_hora_med\": \"2020-12-08T16:09:27Z\", \"id_parametro\": \"pm1_0_sp_desv\", \"valor\": 0.889918}, {\"fecha_hora_med\": \"2020-12-08T16:09:27Z\", \"id_parametro\": \"pm1_0_au\", \"valor\": 15.03333}, {\"fecha_hora_med\": \"2020-12-08T16:09:27Z\", \"id_parametro\": \"pm1_0_au_max\", \"valor\": 17}, {\"fecha_hora_med\": \"2020-12-08T16:09:27Z\", \"id_parametro\": \"pm1_0_au_min\", \"valor\": 13}, {\"fecha_hora_med\": \"2020-12-08T16:09:27Z\", \"id_parametro\": \"pm1_0_au_desv\", \"valor\": 0.889918}, {\"fecha_hora_med\": \"2020-12-08T16:09:27Z\", \"id_parametro\": \"pm2_5_sp\", \"valor\": 22.13333}, {\"fecha_hora_med\": \"2020-12-08T16:09:27Z\", \"id_parametro\": \"pm2_5_sp_max\", \"valor\": 25}, {\"fecha_hora_med\": \"2020-12-08T16:09:27Z\", \"id_parametro\": \"pm2_5_sp_min\", \"valor\": 19}, {\"fecha_hora_med\": \"2020-12-08T16:09:27Z\", \"id_parametro\": \"pm2_5_sp_desv\", \"valor\": 1.357821}, {\"fecha_hora_med\": \"2020-12-08T16:09:27Z\", \"id_parametro\": \"pm2_5_au\", \"valor\": 22.13333}, {\"fecha_hora_med\": \"2020-12-08T16:09:27Z\", \"id_parametro\": \"pm2_5_au_max\", \"valor\": 25}, {\"fecha_hora_med\": \"2020-12-08T16:09:27Z\", \"id_parametro\": \"pm2_5_au_min\", \"valor\": 19}, {\"fecha_hora_med\": \"2020-12-08T16:09:27Z\", \"id_parametro\": \"pm2_5_au_desv\", \"valor\": 1.357821}, {\"fecha_hora_med\": \"2020-12-08T16:09:27Z\", \"id_parametro\": \"pm10_0_sp\", \"valor\": 24.06667}, {\"fecha_hora_med\": \"2020-12-08T16:09:27Z\", \"id_parametro\": \"pm10_0_sp_max\", \"valor\": 27}, {\"fecha_hora_med\": \"2020-12-08T16:09:27Z\", \"id_parametro\": \"pm10_0_sp_min\", \"valor\": 21}, {\"fecha_hora_med\": \"2020-12-08T16:09:27Z\", \"id_parametro\": \"pm10_0_sp_desv\", \"valor\": 1.284747}, {\"fecha_hora_med\": \"2020-12-08T16:09:27Z\", \"id_parametro\": \"pm10_0_au\", \"valor\": 24.06667}, {\"fecha_hora_med\": \"2020-12-08T16:09:27Z\", \"id_parametro\": \"pm10_0_au_max\", \"valor\": 27}, {\"fecha_hora_med\": \"2020-12-08T16:09:27Z\", \"id_parametro\": \"pm10_0_au_min\", \"valor\": 21}, {\"fecha_hora_med\": \"2020-12-08T16:09:27Z\", \"id_parametro\": \"pm10_0_au_desv\", \"valor\": 1.284747}, {\"fecha_hora_med\": \"2020-12-08T16:09:27Z\", \"id_parametro\": \"pm_n_0_3\", \"valor\": 2885}, {\"fecha_hora_med\": \"2020-12-08T16:09:27Z\", \"id_parametro\": \"pm_n_0_3_max\", \"valor\": 3045}, {\"fecha_hora_med\": \"2020-12-08T16:09:27Z\", \"id_parametro\": \"pm_n_0_3_min\", \"valor\": 2670}, {\"fecha_hora_med\": \"2020-12-08T16:09:27Z\", \"id_parametro\": \"pm_n_0_3_desv\", \"valor\": 98.28846}, {\"fecha_hora_med\": \"2020-12-08T16:09:27Z\", \"id_parametro\": \"pm_n_0_5\", \"valor\": 784.5}, {\"fecha_hora_med\": \"2020-12-08T16:09:27Z\", \"id_parametro\": \"pm_n_0_5_max\", \"valor\": 829}, {\"fecha_hora_med\": \"2020-12-08T16:09:27Z\", \"id_parametro\": \"pm_n_0_5_min\", \"valor\": 740}, {\"fecha_hora_med\": \"2020-12-08T16:09:27Z\", \"id_parametro\": \"pm_n_0_5_desv\", \"valor\": 24.65451}, {\"fecha_hora_med\": \"2020-12-08T16:09:27Z\", \"id_parametro\": \"pm_n_1_0\", \"valor\": 147.1333}, {\"fecha_hora_med\": \"2020-12-08T16:09:27Z\", \"id_parametro\": \"pm_n_1_0_max\", \"valor\": 166}, {\"fecha_hora_med\": \"2020-12-08T16:09:27Z\", \"id_parametro\": \"pm_n_1_0_min\", \"valor\": 105}, {\"fecha_hora_med\": \"2020-12-08T16:09:27Z\", \"id_parametro\": \"pm_n_1_0_desv\", \"valor\": 16.32796}, {\"fecha_hora_med\": \"2020-12-08T16:09:27Z\", \"id_parametro\": \"pm_n_2_5\", \"valor\": 10.46667}, {\"fecha_hora_med\": \"2020-12-08T16:09:27Z\", \"id_parametro\": \"pm_n_2_5_max\", \"valor\": 18}, {\"fecha_hora_med\": \"2020-12-08T16:09:27Z\", \"id_parametro\": \"pm_n_2_5_min\", \"valor\": 2}, {\"fecha_hora_med\": \"2020-12-08T16:09:27Z\", \"id_parametro\": \"pm_n_2_5_desv\", \"valor\": 4.288986}, {\"fecha_hora_med\": \"2020-12-08T16:09:27Z\", \"id_parametro\": \"pm_n_10_0\", \"valor\": 3.266667}, {\"fecha_hora_med\": \"2020-12-08T16:09:27Z\", \"id_parametro\": \"pm_n_10_0_max\", \"valor\": 6}, {\"fecha_hora_med\": \"2020-12-08T16:09:27Z\", \"id_parametro\": \"pm_n_10_0_min\", \"valor\": 0}, {\"fecha_hora_med\": \"2020-12-08T16:09:27Z\", \"id_parametro\": \"pm_n_10_0_desv\", \"valor\": 1.33735}, {\"fecha_hora_med\": \"2020-12-08T16:09:27Z\", \"id_parametro\": \"co2_adc_1\", \"valor\": 772.4}, {\"fecha_hora_med\": \"2020-12-08T16:09:27Z\", \"id_parametro\": \"co2_adc_1_max\", \"valor\": 780}, {\"fecha_hora_med\": \"2020-12-08T16:09:27Z\", \"id_parametro\": \"co2_adc_1_min\", \"valor\": 764}, {\"fecha_hora_med\": \"2020-12-08T16:09:27Z\", \"id_parametro\": \"co2_adc_1_desv\", \"valor\": 3.596934}, {\"fecha_hora_med\": \"2020-12-08T16:09:27Z\", \"id_parametro\": \"co2_adc_2\", \"valor\": 428.5}, {\"fecha_hora_med\": \"2020-12-08T16:09:27Z\", \"id_parametro\": \"co2_adc_2_max\", \"valor\": 433}, {\"fecha_hora_med\": \"2020-12-08T16:09:27Z\", \"id_parametro\": \"co2_adc_2_min\", \"valor\": 417}, {\"fecha_hora_med\": \"2020-12-08T16:09:27Z\", \"id_parametro\": \"co2_adc_2_desv\", \"valor\": 3.919448}, {\"fecha_hora_med\": \"2020-12-08T16:09:27Z\", \"id_parametro\": \"co2_res_1\", \"valor\": 68.33315}, {\"fecha_hora_med\": \"2020-12-08T16:09:27Z\", \"id_parametro\": \"co2_res_1_max\", \"valor\": 70.2267}, {\"fecha_hora_med\": \"2020-12-08T16:09:27Z\", \"id_parametro\": \"co2_res_1_min\", \"valor\": 67.3578}, {\"fecha_hora_med\": \"2020-12-08T16:09:27Z\", \"id_parametro\": \"co2_res_1_desv\", \"valor\": 0.639791}, {\"fecha_hora_med\": \"2020-12-08T16:09:27Z\", \"id_parametro\": \"co2_res_2\", \"valor\": 131.1337}, {\"fecha_hora_med\": \"2020-12-08T16:09:27Z\", \"id_parametro\": \"co2_res_2_max\", \"valor\": 137.7345}, {\"fecha_hora_med\": \"2020-12-08T16:09:27Z\", \"id_parametro\": \"co2_res_2_min\", \"valor\": 129.5649}, {\"fecha_hora_med\": \"2020-12-08T16:09:27Z\", \"id_parametro\": \"co2_res_2_desv\", \"valor\": 1.686983}, {\"fecha_hora_med\": \"2020-12-08T16:09:27Z\", \"id_parametro\": \"co2_ppm_1\", \"valor\": 158.2207}, {\"fecha_hora_med\": \"2020-12-08T16:09:27Z\", \"id_parametro\": \"co2_ppm_1_max\", \"valor\": 165.9731}, {\"fecha_hora_med\": \"2020-12-08T16:09:27Z\", \"id_parametro\": \"co2_ppm_1_min\", \"valor\": 135.2387}, {\"fecha_hora_med\": \"2020-12-08T16:09:27Z\", \"id_parametro\": \"co2_ppm_1_desv\", \"valor\": 6.328913}, {\"fecha_hora_med\": \"2020-12-08T16:09:27Z\", \"id_parametro\": \"co2_ppm_2\", \"valor\": 26.41929}, {\"fecha_hora_med\": \"2020-12-08T16:09:27Z\", \"id_parametro\": \"co2_ppm_2_max\", \"valor\": 27.04789}, {\"fecha_hora_med\": \"2020-12-08T16:09:27Z\", \"id_parametro\": \"co2_ppm_2_min\", \"valor\": 24.7001}, {\"fecha_hora_med\": \"2020-12-08T16:09:27Z\", \"id_parametro\": \"co2_ppm_2_desv\", \"valor\": 0.668365}, {\"fecha_hora_med\": \"2020-12-08T16:09:27Z\", \"id_parametro\": \"co2_rzero_1\", \"valor\": 106.2261}, {\"fecha_hora_med\": \"2020-12-08T16:09:27Z\", \"id_parametro\": \"co2_rzero_1_max\", \"valor\": 109.3223}, {\"fecha_hora_med\": \"2020-12-08T16:09:27Z\", \"id_parametro\": \"co2_rzero_1_min\", \"valor\": 105.1646}, {\"fecha_hora_med\": \"2020-12-08T16:09:27Z\", \"id_parametro\": \"co2_rzero_1_desv\", \"valor\": 0.893228}, {\"fecha_hora_med\": \"2020-12-08T16:09:27Z\", \"id_parametro\": \"co2_rzero_2\", \"valor\": 204.5201}, {\"fecha_hora_med\": \"2020-12-08T16:09:27Z\", \"id_parametro\": \"co2_rzero_2_max\", \"valor\": 220.1616}, {\"fecha_hora_med\": \"2020-12-08T16:09:27Z\", \"id_parametro\": \"co2_rzero_2_min\", \"valor\": 202.7002}, {\"fecha_hora_med\": \"2020-12-08T16:09:27Z\", \"id_parametro\": \"co2_rzero_2_desv\", \"valor\": 3.600694}]}]\n",
            "201 Created\n",
            "\n",
            "\n",
            "Transmitiendo ...   DataOutdoor/2020_12/2020_12_08T16_10_22Z.json\n",
            "[{\"id_dataset\": 0, \"version\": \"1.0\", \"id_estacion\": \"mc_outdoor\", \"gps\": false, \"timezone\": \"UTC-5\", \"mediciones\": [{\"fecha_hora_med\": \"2020-12-08T16:10:22Z\", \"id_parametro\": \"t\", \"valor\": 25.4415}, {\"fecha_hora_med\": \"2020-12-08T16:10:22Z\", \"id_parametro\": \"h\", \"valor\": 63.21861}, {\"fecha_hora_med\": \"2020-12-08T16:10:22Z\", \"id_parametro\": \"p\", \"valor\": 900.9093}, {\"fecha_hora_med\": \"2020-12-08T16:10:22Z\", \"id_parametro\": \"pm1_0_sp\", \"valor\": 14.46667}, {\"fecha_hora_med\": \"2020-12-08T16:10:22Z\", \"id_parametro\": \"pm1_0_sp_max\", \"valor\": 16}, {\"fecha_hora_med\": \"2020-12-08T16:10:22Z\", \"id_parametro\": \"pm1_0_sp_min\", \"valor\": 13}, {\"fecha_hora_med\": \"2020-12-08T16:10:22Z\", \"id_parametro\": \"pm1_0_sp_desv\", \"valor\": 0.819307}, {\"fecha_hora_med\": \"2020-12-08T16:10:22Z\", \"id_parametro\": \"pm1_0_au\", \"valor\": 14.46667}, {\"fecha_hora_med\": \"2020-12-08T16:10:22Z\", \"id_parametro\": \"pm1_0_au_max\", \"valor\": 16}, {\"fecha_hora_med\": \"2020-12-08T16:10:22Z\", \"id_parametro\": \"pm1_0_au_min\", \"valor\": 13}, {\"fecha_hora_med\": \"2020-12-08T16:10:22Z\", \"id_parametro\": \"pm1_0_au_desv\", \"valor\": 0.819307}, {\"fecha_hora_med\": \"2020-12-08T16:10:22Z\", \"id_parametro\": \"pm2_5_sp\", \"valor\": 20.16667}, {\"fecha_hora_med\": \"2020-12-08T16:10:22Z\", \"id_parametro\": \"pm2_5_sp_max\", \"valor\": 24}, {\"fecha_hora_med\": \"2020-12-08T16:10:22Z\", \"id_parametro\": \"pm2_5_sp_min\", \"valor\": 18}, {\"fecha_hora_med\": \"2020-12-08T16:10:22Z\", \"id_parametro\": \"pm2_5_sp_desv\", \"valor\": 1.949064}, {\"fecha_hora_med\": \"2020-12-08T16:10:22Z\", \"id_parametro\": \"pm2_5_au\", \"valor\": 20.16667}, {\"fecha_hora_med\": \"2020-12-08T16:10:22Z\", \"id_parametro\": \"pm2_5_au_max\", \"valor\": 24}, {\"fecha_hora_med\": \"2020-12-08T16:10:22Z\", \"id_parametro\": \"pm2_5_au_min\", \"valor\": 18}, {\"fecha_hora_med\": \"2020-12-08T16:10:22Z\", \"id_parametro\": \"pm2_5_au_desv\", \"valor\": 1.949064}, {\"fecha_hora_med\": \"2020-12-08T16:10:22Z\", \"id_parametro\": \"pm10_0_sp\", \"valor\": 21.66667}, {\"fecha_hora_med\": \"2020-12-08T16:10:22Z\", \"id_parametro\": \"pm10_0_sp_max\", \"valor\": 27}, {\"fecha_hora_med\": \"2020-12-08T16:10:22Z\", \"id_parametro\": \"pm10_0_sp_min\", \"valor\": 18}, {\"fecha_hora_med\": \"2020-12-08T16:10:22Z\", \"id_parametro\": \"pm10_0_sp_desv\", \"valor\": 2.495974}, {\"fecha_hora_med\": \"2020-12-08T16:10:22Z\", \"id_parametro\": \"pm10_0_au\", \"valor\": 21.66667}, {\"fecha_hora_med\": \"2020-12-08T16:10:22Z\", \"id_parametro\": \"pm10_0_au_max\", \"valor\": 27}, {\"fecha_hora_med\": \"2020-12-08T16:10:22Z\", \"id_parametro\": \"pm10_0_au_min\", \"valor\": 18}, {\"fecha_hora_med\": \"2020-12-08T16:10:22Z\", \"id_parametro\": \"pm10_0_au_desv\", \"valor\": 2.495974}, {\"fecha_hora_med\": \"2020-12-08T16:10:22Z\", \"id_parametro\": \"pm_n_0_3\", \"valor\": 2765.9}, {\"fecha_hora_med\": \"2020-12-08T16:10:22Z\", \"id_parametro\": \"pm_n_0_3_max\", \"valor\": 3210}, {\"fecha_hora_med\": \"2020-12-08T16:10:22Z\", \"id_parametro\": \"pm_n_0_3_min\", \"valor\": 2496}, {\"fecha_hora_med\": \"2020-12-08T16:10:22Z\", \"id_parametro\": \"pm_n_0_3_desv\", \"valor\": 196.6545}, {\"fecha_hora_med\": \"2020-12-08T16:10:22Z\", \"id_parametro\": \"pm_n_0_5\", \"valor\": 743.2333}, {\"fecha_hora_med\": \"2020-12-08T16:10:22Z\", \"id_parametro\": \"pm_n_0_5_max\", \"valor\": 860}, {\"fecha_hora_med\": \"2020-12-08T16:10:22Z\", \"id_parametro\": \"pm_n_0_5_min\", \"valor\": 668}, {\"fecha_hora_med\": \"2020-12-08T16:10:22Z\", \"id_parametro\": \"pm_n_0_5_desv\", \"valor\": 55.65701}, {\"fecha_hora_med\": \"2020-12-08T16:10:22Z\", \"id_parametro\": \"pm_n_1_0\", \"valor\": 126.4667}, {\"fecha_hora_med\": \"2020-12-08T16:10:22Z\", \"id_parametro\": \"pm_n_1_0_max\", \"valor\": 165}, {\"fecha_hora_med\": \"2020-12-08T16:10:22Z\", \"id_parametro\": \"pm_n_1_0_min\", \"valor\": 109}, {\"fecha_hora_med\": \"2020-12-08T16:10:22Z\", \"id_parametro\": \"pm_n_1_0_desv\", \"valor\": 15.84349}, {\"fecha_hora_med\": \"2020-12-08T16:10:22Z\", \"id_parametro\": \"pm_n_2_5\", \"valor\": 9.866667}, {\"fecha_hora_med\": \"2020-12-08T16:10:22Z\", \"id_parametro\": \"pm_n_2_5_max\", \"valor\": 16}, {\"fecha_hora_med\": \"2020-12-08T16:10:22Z\", \"id_parametro\": \"pm_n_2_5_min\", \"valor\": 4}, {\"fecha_hora_med\": \"2020-12-08T16:10:22Z\", \"id_parametro\": \"pm_n_2_5_desv\", \"valor\": 2.674701}]}]\n",
            "201 Created\n",
            "\n",
            "\n"
          ]
        },
        {
          "output_type": "execute_result",
          "data": {
            "text/plain": [
              "[[],\n",
              " ['DataOutdoor/2020_12/2020_12_06T00_15_10Z.json',\n",
              "  'DataOutdoor/2020_12/2020_12_06T00_20_22Z.json',\n",
              "  'DataOutdoor/2020_12/2020_12_06T00_28_56Z.json',\n",
              "  'DataOutdoor/2020_12/2020_12_06T03_11_21Z.json']]"
            ]
          },
          "metadata": {},
          "execution_count": 51
        }
      ],
      "source": [
        "TransmitPendientes(keysoutdoor)"
      ]
    },
    {
      "cell_type": "code",
      "execution_count": 110,
      "metadata": {
        "tags": []
      },
      "outputs": [],
      "source": []
    }
  ]
}